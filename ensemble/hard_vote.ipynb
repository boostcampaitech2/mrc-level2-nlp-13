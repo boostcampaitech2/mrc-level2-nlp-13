{
 "cells": [
  {
   "cell_type": "code",
   "execution_count": 1505,
   "id": "e3479f0d-d87e-44f2-aced-e5eb26af9265",
   "metadata": {},
   "outputs": [],
   "source": [
    "#하트보팅하고 싶다\n",
    "import pandas as pd\n",
    "# 여기에 앙상블할 파일 불러와서 앙상블하기! (팀제출에서 csv로 다운로드 받아서, Rename으로 확장자만 json으로 바꿔주기\n",
    "roberta_sp = pd.read_json(\"./test_dataset_2/novocab30.json\",typ='series') #0.5433\n",
    "roberta_sp_v2 =pd.read_json(\"./roberta-unlimit.json\",typ='series')\n",
    "roberta_bm = pd.read_json(\"./bm25.json\",typ='series') #0.0.6266\n",
    "roberta_es =pd.read_json(\"./es_robert-large_predictions.json\",typ='series') #0.5516\n",
    "roberta_dense= pd.read_json(\"./roberta_dense.json\",typ='series') #0.3266\n",
    "roberta_dense_v2= pd.read_json(\"./roberta_dense_v2.json\",typ='series') #0.4766\n",
    "roberta_dense_v3= pd.read_json(\"./roberta_dense_v3.json\",typ='series') #0.4283\n",
    "roberta_dense_v4= pd.read_json(\"./roberta_dense_v4.json\",typ='series') #0.4133\n",
    "\n",
    "\n",
    "qg_roberta_sp = pd.read_json(\"./roberta_qg_sp.json\",typ='series') #0.5066\n",
    "qg_roberta_bm_v2 = pd.read_json(\"./roberta_qg_bm_v2.json\",typ='series') #0.5683\n",
    "qg_roberta_bm_v3 = pd.read_json(\"./roberta_qg_bm_v3.json\",typ='series') #0.566\n",
    "qg_roberta_dense = pd.read_json(\"./roberta_qg_dense.json\",typ='series') #0.38\n",
    "qg_roberta_bm = pd.read_json(\"./roberta_qg_bm.json\",typ='series') #0.5466\n",
    "\n",
    "\n",
    "electra_es= pd.read_json(\"./es_koelectra_predictions.json\",typ='series') #0.395\n",
    "electra_es_v2 =pd.read_json(\"./es_koelectra_v2_predictions.json\",typ='series') #0.4733\n",
    "electra_bm =pd.read_json(\"./bm_koelectra_predictions.json\",typ='series')  #0.4966\n",
    "electra_dense=pd.read_json(\"./electra_dense.json\",typ='series') #0.3983\n",
    "\n",
    "\n",
    "bert_bm= pd.read_json(\"./bert-base_bm25_prediction.json\",typ='series') #0.4116\n",
    "bert_sp= pd.read_json(\"./bert-base_tfidf_prediction.json\",typ='series') #0.3916\n",
    "bert_es= pd.read_json(\"./es_bert-base-multi_predictions.json\",typ='series') #0.2266\n",
    "bert_bm_v2= pd.read_json(\"./bert-base_bm25_prediction_v2.json\",typ='series') #0.4316\n",
    "bert_sp_v2= pd.read_json(\"./bert-base_tfidf_prediction_v2.json\",typ='series') #0.4233\n",
    "bert_dense = pd.read_json(\"./bert_dense.json\",typ='series') #0.23\n",
    "\n",
    "\n",
    "roberta_cnn_sp= pd.read_json(\"./roberta_cnn_sp.json\",typ='series') #0.5883\n",
    "roberta_cnn_bm= pd.read_json(\"./roberta_cnn_bm25.json\",typ='series') #0.5966\n",
    "roberta_cnn_dense= pd.read_json(\"./roberta_cnn_dense.json\",typ='series') #0.425\n",
    "roberta_cnn_dense_v2 = pd.read_json(\"./roberta_cnn_dense_v2.json\",typ='series') #0.4083\n",
    "roberta_cnn_sp_v2 = pd.read_json(\"./roberta-cnn-origin5-sparse.json\",typ='series') #0.5933\n",
    "roberta_cnn_sp_v3 = pd.read_json(\"./roberta_cnn_sp_v3.json\",typ='series') #0.5383\n",
    "roberta_cnn_bm_v2 = pd.read_json(\"./roberta-cnn-origin5-bm25.json\",typ='series') #0.5833\n",
    "roberta_cnn_bm_v3 = pd.read_json(\"./roberta_cnn_bm_v3.json\",typ='series') #0.6016\n",
    "\n",
    "roberta_sen_dense =  pd.read_json(\"./roberta_sen_dense.json\",typ='series') #0.506\n",
    "roberta_sen_sp =  pd.read_json(\"./roberta_sen_sp.json\",typ='series') #0.506\n",
    "\n",
    "roberta_sen_dense_v2 =  pd.read_json(\"./roberta_sen_dense_v2.json\",typ='series') #0.486\n",
    "roberta_sen_dense_v3 =  pd.read_json(\"./roberta_sen_dense_v3.json\",typ='series') #0.515\n",
    "roberta_sen_dense_v4 =  pd.read_json(\"./roberta_sen_dense_v4.json\",typ='series') #0.535\n",
    "\n",
    "roberta_cnn_bm_dense = pd.read_json(\"./roberta_cnn_bm_dense.json\",typ='series') #0.508\n",
    "\n",
    "josa =  pd.read_json(\"./josa.json\",typ='series') #0.713\n",
    "josa2 =  pd.read_json(\"./josa2.json\",typ='series') #0.72\n",
    "\n",
    "\n",
    "add = pd.read_json(\"./add.json\",typ='series')  #0.66\n",
    "add2 = pd.read_json(\"./add2.json\",typ='series') #0.625\n",
    "add3 = pd.read_json(\"./add3.json\",typ='series') #0.691\n",
    "\n",
    "best2 = pd.read_json(\"./best2.json\",typ='series')  #0.715\n",
    "best3 = pd.read_json(\"./best3.json\",typ='series')  #0.716\n",
    "top = pd.read_json(\"./top.json\",typ='series') #0.718\n",
    "test = pd.read_json(\"./test.json\",typ='series') #0.718\n",
    "josa3 = pd.read_json(\"./check.json\",typ='series') \n",
    "last_check = pd.read_json(\"./last_check.json\",typ='series') \n",
    "last_last_check = pd.read_json(\"./last_last_check.json\",typ='series') \n",
    "\n",
    "\n",
    "#answer\n",
    "answer = pd.read_csv(\"./answer_v2.csv\")"
   ]
  },
  {
   "cell_type": "markdown",
   "id": "612b6670-ccf6-4ffd-bc0d-0a9543cb577a",
   "metadata": {},
   "source": [
    "순수 하드 보팅 , 600개 대상으로 더 많은 갯수 있는 거 고르기"
   ]
  },
  {
   "cell_type": "code",
   "execution_count": 1517,
   "id": "aacb8eb7-cfb8-40d5-ad63-c7e05cec7c5e",
   "metadata": {},
   "outputs": [],
   "source": [
    "#roberta_dense,roberta_dense_v2,electra_bm,roberta_sp,bm25,bert_bm,bert_sp,roberta5_cnn_sp_v2,roberta_cnn_bm25,electra_es,electra_es_v2,roberta_cnn_sp,roberta_es,bert_es 70 점\n",
    "#roberta_dense,roberta_dense_v2,electra_es,electra_es_v2,electra_bm,bert_sp,bert_es,bert_bm,roberta_sp,roberta_es,roberta_bm,roberta_cnn_sp,roberta_cnn_bm,roberta_cnn_sp_v2 70.5점\n",
    "# roberta_dense,roberta_dense_v2,electra_es,electra_es_v2,electra_bm,bert_sp,bert_es,bert_bm,roberta_sp,roberta_es,roberta_bm,roberta_cnn_sp,roberta_cnn_bm,roberta_cnn_sp_v2,electra_dense 70.66점\n",
    "# roberta_dense_v2,electra_es,electra_es_v2,electra_bm,bert_sp,bert_es,bert_bm,roberta_sp,roberta_es,roberta_bm,roberta_cnn_sp,roberta_cnn_bm,roberta_cnn_sp_v2,electra_dense 68.8점\n",
    "# roberta_dense,roberta_dense_v2,electra_es,electra_es_v2,electra_bm,bert_sp,bert_es,bert_bm,roberta_sp,roberta_es,roberta_bm,roberta_cnn_sp,roberta_cnn_bm,roberta_cnn_sp_v2,electra_dense,roberta_cnn_dense 70.33점\n",
    "# roberta_dense,roberta_dense_v2,electra_es,electra_es_v2,electra_bm,bert_sp,bert_es,bert_bm,roberta_sp,roberta_es,roberta_bm,roberta_cnn_sp,roberta_cnn_bm,roberta_cnn_sp_v2,qg_roberta_bm_v2 70.66점\n",
    "# roberta_dense,roberta_dense_v2,electra_es,electra_es_v2,electra_bm,bert_sp,bert_es,bert_bm,roberta_sp,roberta_es,roberta_bm,roberta_cnn_sp,roberta_cnn_bm,roberta_cnn_sp_v2,qg_roberta_bm_v2,roberta_cnn_dense 70점\n",
    "# roberta_dense,roberta_bm,electra_es,roberta_cnn_bm,electra_dense,roberta_cnn_sp_v2,bert_sp,roberta_cnn_sp,electra_es_v2,roberta_es,roberta_dense_v2,roberta_sp,electra_bm,roberta_cnn_bm_v2,bert_es,electra4,bert_bm,bert_bm_v2,bert_sp_v2,roberta_cnn_dense #0.696점 _ 각 모델 별 5개씩 넣어줌\n",
    "# roberta_dense,roberta_dense_v2,electra_es,electra_es_v2,electra_bm,bert_sp,bert_es,bert_bm_v2,roberta_sp,roberta_es,roberta_bm,roberta_cnn_sp,roberta_cnn_bm,roberta_cnn_sp_v2,electra_dense 70.83점\n",
    "# roberta_dense,roberta_dense_v2,electra_es,electra_es_v2,electra_bm,bert_sp,bert_es,qg_roberta_sp,bert_bm_v2,roberta_sp,roberta_es,roberta_bm,roberta_cnn_sp,roberta_cnn_bm,roberta_cnn_sp_v2,electra_dense 71점.\n",
    "# roberta_dense,roberta_dense_v2,electra_es,electra_es_v2,electra_bm,bert_sp,bert_es,qg_roberta_bm,bert_bm_v2,roberta_sp,roberta_es,roberta_bm,roberta_cnn_sp,roberta_cnn_bm,roberta_cnn_sp_v2,electra_dense 71점.\n",
    "# bert_dense,last0,roberta_dense,roberta_dense_v2,electra_es,electra_es_v2,electra_bm,bert_sp,bert_es,qg_roberta_sp,bert_bm_v2,roberta_sp,roberta_es,roberta_bm,roberta_cnn_sp,roberta_cnn_bm,roberta_cnn_sp_v2,electra_dense 71.16점\n",
    "# last1,last0,roberta_dense,roberta_dense_v2,electra_es,electra_es_v2,electra_bm,bert_sp,bert_es,qg_roberta_sp,bert_bm_v2,roberta_sp,roberta_es,roberta_bm,roberta_cnn_sp,roberta_cnn_bm,roberta_cnn_sp_v2,electra_dense 71.33점\n",
    "# last1,last0,add2,roberta_dense,roberta_dense_v2,electra_es,electra_es_v2,electra_bm,bert_sp,bert_es,qg_roberta_sp,bert_bm_v2,roberta_sp,roberta_es,roberta_bm,roberta_cnn_sp,roberta_cnn_bm,roberta_cnn_sp_v2,electra_dense 71.5점\n",
    "\n",
    "#roberta_cnn_dense , qg_roberta_dense , qg_roberta_bm_v2\n",
    "answer = [] #,j,k,l,m,n,o,p,q,r,s,t\n",
    "#models = [roberta(,,,,) / electra(,,,,) / bert(bm,,,bm2,sp2) / roberta_cnn(,,dense,,)]\n",
    "for a,b,c,d,e,f,g,h,i,j,k,l,m,n,o,p,q,r,s,t in zip(last_last_check,test,josa3,josa3,josa3,josa3,josa3,josa3,josa3,josa3,josa3,josa3,josa3,josa,roberta_sp_v2,electra_es,electra_es,electra_es,electra_es,electra_es_v2,electra_bm,electra_dense,bert_dense,bert_sp,bert_es,bert_bm_v2,roberta_dense_v2,roberta_dense_v2,roberta_dense_v2,roberta_dense_v3,qg_roberta_sp,qg_roberta_bm_v2,roberta_sen_sp,roberta_cnn_bm_dense,roberta_cnn_sp,roberta_cnn_bm_v3):\n",
    "    vote = {}\n",
    "    try:\n",
    "        vote[a] += 1\n",
    "    except:\n",
    "        vote[a] = 1\n",
    "    try:\n",
    "        vote[b] += 1\n",
    "    except:\n",
    "        vote[b] = 1\n",
    "    try:\n",
    "        vote[c] += 1\n",
    "    except:\n",
    "        vote[c] = 1\n",
    "    try:\n",
    "        vote[d] += 1\n",
    "    except:\n",
    "        vote[d] = 1\n",
    "    try:\n",
    "        vote[e] += 1\n",
    "    except:\n",
    "        vote[e] = 1\n",
    "    try:\n",
    "        vote[f] += 1\n",
    "    except:\n",
    "        vote[f] = 1\n",
    "    try:\n",
    "        vote[g] += 1\n",
    "    except:\n",
    "        vote[g] = 1\n",
    "    try:\n",
    "        vote[h] += 1\n",
    "    except:\n",
    "        vote[h] = 1\n",
    "    try:\n",
    "        vote[i] += 1\n",
    "    except:\n",
    "        vote[i] = 1\n",
    "    try:\n",
    "        vote[j] += 1\n",
    "    except:\n",
    "        vote[j] = 1\n",
    "    try:\n",
    "        vote[k] += 1\n",
    "    except:\n",
    "        vote[k] = 1\n",
    "    try:\n",
    "        vote[l] += 1\n",
    "    except:\n",
    "        vote[l] = 1\n",
    "    try:\n",
    "        vote[m] += 1\n",
    "    except:\n",
    "        vote[m] = 1\n",
    "    try:\n",
    "        vote[n] += 1\n",
    "    except:\n",
    "        vote[n] = 1\n",
    "    try:\n",
    "        vote[o] += 1\n",
    "    except:\n",
    "        vote[o] = 1\n",
    "    try:\n",
    "        vote[p] += 1\n",
    "    except:\n",
    "        vote[p] = 1\n",
    "    try:\n",
    "        vote[q] += 1\n",
    "    except:\n",
    "        vote[q] = 1\n",
    "    try:\n",
    "        vote[r] += 1\n",
    "    except:\n",
    "        vote[r] = 1\n",
    "    try:\n",
    "        vote[s] += 1\n",
    "    except:\n",
    "        vote[s] = 1\n",
    "    try:\n",
    "        vote[t] += 1\n",
    "    except:\n",
    "        vote[t] = 1\n",
    "\n",
    "\n",
    "\n",
    "\n",
    "    answer.append(sorted(vote.items(),key = lambda x:x[1], reverse=True)[0][0])"
   ]
  },
  {
   "cell_type": "code",
   "execution_count": 1518,
   "id": "0eb5b940-ad1d-467b-80b3-6b2848d750d1",
   "metadata": {},
   "outputs": [],
   "source": [
    "import json\n",
    "#List -> Dict\n",
    "d={}\n",
    "for key, value in zip(data1.index, answer):\n",
    "    d[key] = value\n",
    "#Dict -> json\n",
    "with open('./test.json','w') as f:\n",
    "    json.dump(d, f)"
   ]
  },
  {
   "cell_type": "markdown",
   "id": "2faf032b-a4f6-46c9-97c1-a28a2a3a03b0",
   "metadata": {},
   "source": [
    "list -> dict -> json 형태로 저장하기"
   ]
  },
  {
   "cell_type": "code",
   "execution_count": 1088,
   "id": "2ea4c7ae-6598-46c6-8a59-7b0acfd491a3",
   "metadata": {},
   "outputs": [],
   "source": [
    "import json\n",
    "#List -> Dict\n",
    "d={}\n",
    "for key, value in zip(data1.index, answer):\n",
    "    d[key] = value\n",
    "#Dict -> json\n",
    "with open('./ensemble.json','w') as f:\n",
    "    json.dump(d, f)"
   ]
  },
  {
   "cell_type": "code",
   "execution_count": null,
   "id": "ac5ccb4d-6046-490f-99ae-ce79bf400ba1",
   "metadata": {},
   "outputs": [],
   "source": [
    "predict_answer('./ensemble.json') "
   ]
  },
  {
   "cell_type": "markdown",
   "id": "cefa1623-1c2e-4fab-b63c-75a3213777f5",
   "metadata": {},
   "source": [
    "모델들이 서로 다르게 예측한 것들 확인해보기  -> 그냥 둘다 틀린걸 또 틀리는듯.."
   ]
  },
  {
   "cell_type": "code",
   "execution_count": null,
   "id": "504ba480-b9ba-4580-9ab2-a6984a2f14cb",
   "metadata": {},
   "outputs": [],
   "source": []
  },
  {
   "cell_type": "code",
   "execution_count": 316,
   "id": "bd280e35-fd83-45be-bc82-e63f53692cbb",
   "metadata": {},
   "outputs": [],
   "source": [
    "with open('./k.json','w') as f:\n",
    "    json.dump(d, f)"
   ]
  },
  {
   "cell_type": "code",
   "execution_count": 656,
   "id": "16c9da6d-c9f3-495c-ae2b-5d878995bfdf",
   "metadata": {},
   "outputs": [],
   "source": [
    "last0 = pd.read_json(\"./last0.json\",typ=\"series\")\n",
    "last1 = pd.read_json(\"./last1.json\",typ=\"series\")\n",
    "last2 = pd.read_json(\"./last2.json\",typ=\"series\")\n",
    "last3 = pd.read_json(\"./last3.json\",typ=\"series\")\n",
    "last4 = pd.read_json(\"./last4.json\",typ=\"series\")\n",
    "last5 = pd.read_json(\"./last5.json\",typ=\"series\")\n",
    "last6 = pd.read_json(\"./last6.json\",typ=\"series\")\n",
    "last7 = pd.read_json(\"./last7.json\",typ=\"series\")"
   ]
  },
  {
   "cell_type": "code",
   "execution_count": 658,
   "id": "60e472ab-877b-41c5-9213-4f5c038bc196",
   "metadata": {},
   "outputs": [],
   "source": [
    "for a,b,c,d,e,f,g,h in zip(last0,last1,last2,last3,last4,last5,last6,last7):\n",
    "    vote = {}\n",
    "    try:\n",
    "        vote[a] += 1\n",
    "    except:\n",
    "        vote[a] = 1\n",
    "    try:\n",
    "        vote[b] += 1\n",
    "    except:\n",
    "        vote[b] = 1\n",
    "    try:\n",
    "        vote[c] += 1\n",
    "    except:\n",
    "        vote[c] = 1\n",
    "    try:\n",
    "        vote[d] += 1\n",
    "    except:\n",
    "        vote[d] = 1\n",
    "    try:\n",
    "        vote[e] += 1\n",
    "    except:\n",
    "        vote[e] = 1\n",
    "    try:\n",
    "        vote[f] += 1\n",
    "    except:\n",
    "        vote[f] = 1\n",
    "    try:\n",
    "        vote[g] += 1\n",
    "    except:\n",
    "        vote[g] = 1\n",
    "    try:\n",
    "        vote[h] += 1\n",
    "    except:\n",
    "        vote[h] = 1\n",
    "    answer.append(sorted(vote.items(),key = lambda x:x[1], reverse=True)[0][0])"
   ]
  },
  {
   "cell_type": "code",
   "execution_count": 310,
   "id": "a07c5f29-69c7-4da6-9117-cfe25e4071da",
   "metadata": {},
   "outputs": [
    {
     "name": "stdout",
     "output_type": "stream",
     "text": [
      "11\n"
     ]
    }
   ],
   "source": [
    "cnt =0\n",
    "for idx,(i,j) in enumerate(zip(list(ensemble10),list(ensemble11))):\n",
    "      if i != j:\n",
    "            cnt +=1\n",
    "print(cnt)"
   ]
  },
  {
   "cell_type": "markdown",
   "id": "255093d6-7470-4d55-95ab-90f989408cd2",
   "metadata": {},
   "source": [
    "###### 서로 다른 두개 중복 갯수 확인"
   ]
  },
  {
   "cell_type": "code",
   "execution_count": 622,
   "id": "ec17e1cc-6653-494f-9eaf-44c473b09c19",
   "metadata": {},
   "outputs": [
    {
     "name": "stdout",
     "output_type": "stream",
     "text": [
      "584\n"
     ]
    }
   ],
   "source": [
    "cnt =0\n",
    "for i,j in zip(list(last1),list(last0)):\n",
    "    if i == j:\n",
    "        cnt +=1\n",
    "print(cnt) #50점과 6%달랐는데 , 1.2% 떨어짐 그러면 바꾼것중에 3.6가 원래 맞았고, 2.4%가 바꾼게 맞았네"
   ]
  },
  {
   "cell_type": "code",
   "execution_count": 145,
   "id": "76e201d4-9b3a-4cef-ae6c-27e772fbb193",
   "metadata": {},
   "outputs": [
    {
     "name": "stdout",
     "output_type": "stream",
     "text": [
      "535\n"
     ]
    }
   ],
   "source": [
    "cnt =0\n",
    "for i,j in zip(list(data5),list(data4)):\n",
    "    if i == j:\n",
    "        cnt +=1\n",
    "print(cnt) #50점 <-> 49.5점  #65개가 달라요. 11% 달라요"
   ]
  },
  {
   "cell_type": "code",
   "execution_count": 138,
   "id": "dbc4e8a5-ee11-4bd0-bcdc-9d7b11aa66f4",
   "metadata": {},
   "outputs": [],
   "source": [
    "test4 = pd.read_json(\"./test4.json\",typ='series')"
   ]
  },
  {
   "cell_type": "code",
   "execution_count": 146,
   "id": "1a8f49af-5746-43b8-a2b4-506310bbb0ad",
   "metadata": {},
   "outputs": [
    {
     "name": "stdout",
     "output_type": "stream",
     "text": [
      "530\n"
     ]
    }
   ],
   "source": [
    "cnt =0\n",
    "for i,j in zip(list(test4),list(data4)):\n",
    "    if i == j:\n",
    "        cnt +=1 \n",
    "print(cnt) #70개가 다른데 점수는 0.5점차이"
   ]
  },
  {
   "cell_type": "code",
   "execution_count": 153,
   "id": "1741dad5-4236-4c71-a2b6-fabe6823caea",
   "metadata": {},
   "outputs": [
    {
     "name": "stdout",
     "output_type": "stream",
     "text": [
      "537\n"
     ]
    }
   ],
   "source": [
    "cnt =0\n",
    "for i,j in zip(list(test4),list(data5)):\n",
    "    if i == j:\n",
    "        cnt += 1\n",
    "print(cnt) #63개가 다른데 점수는 0.5점차이"
   ]
  },
  {
   "cell_type": "code",
   "execution_count": 154,
   "id": "98d1f3b9-77f5-4fe8-add4-3565aae845dc",
   "metadata": {},
   "outputs": [
    {
     "data": {
      "text/plain": [
       "1"
      ]
     },
     "execution_count": 154,
     "metadata": {},
     "output_type": "execute_result"
    }
   ],
   "source": [
    "{\"a\":1}[\"a\"]"
   ]
  },
  {
   "cell_type": "code",
   "execution_count": 347,
   "id": "c829afe2-21ee-45a9-9ded-3b953d4159d2",
   "metadata": {},
   "outputs": [],
   "source": [
    "import ast\n",
    "import json\n",
    "import pandas as pd\n",
    "\n",
    "def predict_answer(predict_file):\n",
    "\n",
    "    answer_csv = pd.read_csv('./answer_v2.csv')\n",
    "    answers = []\n",
    "\n",
    "    for idx in range(600):\n",
    "        try:\n",
    "            x = answer_csv.answers.iloc[idx]\n",
    "            #x = ast.literal_eval(x)\n",
    "            #print(x[0])\n",
    "            answers.append(x.split(','))\n",
    "        except:\n",
    "            # 109, 198, 296, 418, 446번 정답 없음\n",
    "            answers.append('None')\n",
    "    \n",
    "    predict_json_list = []\n",
    "\n",
    "    with open(predict_file) as json_data:\n",
    "        predict_json_list.append(json.load(json_data))\n",
    "        \n",
    "    predictions = list(predict_json_list[0].values())\n",
    "    wrong_pair = []\n",
    "    correct_pair = []\n",
    "    for answer, predict in zip(answers, predictions):\n",
    "        count = 0\n",
    "        for ans in answer:\n",
    "            if ans == predict:\n",
    "                correct_pair.append((ans, predict))\n",
    "                count += 1\n",
    "        if count == 0:\n",
    "            wrong_pair.append((answer, predict))\n",
    "            \n",
    "            \n",
    "    print(f'EM score {(600 - len(wrong_pair))/600}, 틀린 갯수: {len(wrong_pair)}')\n",
    "    return wrong_pair, correct_pair"
   ]
  },
  {
   "cell_type": "code",
   "execution_count": null,
   "id": "66f3ce92-0870-4e9f-90d2-a03dcd0d8baf",
   "metadata": {},
   "outputs": [],
   "source": []
  }
 ],
 "metadata": {
  "kernelspec": {
   "display_name": "Python 3",
   "language": "python",
   "name": "python3"
  },
  "language_info": {
   "codemirror_mode": {
    "name": "ipython",
    "version": 3
   },
   "file_extension": ".py",
   "mimetype": "text/x-python",
   "name": "python",
   "nbconvert_exporter": "python",
   "pygments_lexer": "ipython3",
   "version": "3.8.5"
  }
 },
 "nbformat": 4,
 "nbformat_minor": 5
}
