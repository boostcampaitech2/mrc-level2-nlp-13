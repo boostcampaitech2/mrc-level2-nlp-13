{
 "cells": [
  {
   "cell_type": "markdown",
   "metadata": {},
   "source": [
    "# mecab, pororo 설치 필요\n",
    "\n",
    "1. mecab 설치\n",
    "- 진명훈님 mecab 설치법 (https://stages.ai/competitions/75/discussion/talk/post/609)\n",
    "2. python-mecab-ko 설치\n",
    "- pip install python-mecab-ko\n",
    "3. pororo 설치\n",
    "- pip install pororo"
   ]
  },
  {
   "cell_type": "markdown",
   "metadata": {},
   "source": [
    "# 데이터 convert"
   ]
  },
  {
   "cell_type": "code",
   "execution_count": 10,
   "metadata": {},
   "outputs": [],
   "source": [
    "import json\n",
    "\n",
    "def mrc_json_to_list(json_path):\n",
    "    with open(json_path) as f:\n",
    "        json_object = json.load(f)\n",
    "    return list(json_object.values())\n",
    "\n",
    "def mrc_csv_to_list(csv_path):\n",
    "    df = pd.read_csv(csv_path)\n",
    "    df[\"answers\"] = df[\"answers\"].fillna('[\"\"]')\n",
    "    return list(df[\"answers\"].map(lambda x : eval(x)))\n",
    "\n"
   ]
  },
  {
   "cell_type": "markdown",
   "metadata": {},
   "source": [
    "# SQUAD [em,f1] score 계산하기"
   ]
  },
  {
   "cell_type": "code",
   "execution_count": 3,
   "metadata": {},
   "outputs": [
    {
     "name": "stderr",
     "output_type": "stream",
     "text": [
      "Using the latest cached version of the module from /opt/ml/.cache/huggingface/modules/datasets_modules/metrics/squad/513bf9facd7f12b0871a3d74c6999c866ce28196c9cdb151dcf934848655d77e (last modified on Sun Oct 31 12:51:29 2021) since it couldn't be found locally at squad, or remotely on the Hugging Face Hub.\n",
      "Exception ignored in: <function tqdm.__del__ at 0x7f82415140d0>\n",
      "Traceback (most recent call last):\n",
      "  File \"/opt/conda/envs/pororo/lib/python3.8/site-packages/tqdm/std.py\", line 1147, in __del__\n",
      "    self.close()\n",
      "  File \"/opt/conda/envs/pororo/lib/python3.8/site-packages/tqdm/notebook.py\", line 286, in close\n",
      "    self.disp(bar_style='danger', check_delay=False)\n",
      "AttributeError: 'tqdm' object has no attribute 'disp'\n"
     ]
    }
   ],
   "source": [
    "from datasets import load_metric\n",
    "import json\n",
    "import pandas as pd\n",
    "\n",
    "metric = load_metric(\"squad\")\n",
    "\n",
    "def get_squad_score(predict_list, reference_list):\n",
    "    predictions = [{\"prediction_text\": data, \"id\": str(i)} for i, data in enumerate(predict_list)]\n",
    "    references = [ {\"answers\": {\"answer_start\": [0], \"text\": data}, \"id\": str(i)} for i, data in enumerate(reference_list)]\n",
    "    \n",
    "    log = metric.compute(predictions=predictions, references=references)\n",
    "    \n",
    "    print(log)\n",
    "    print(f\"correct_num : {log['exact_match']* 600/100}/{len(predictions)}\")\n"
   ]
  },
  {
   "cell_type": "markdown",
   "metadata": {},
   "source": [
    "# 마지막 조사 제거"
   ]
  },
  {
   "cell_type": "code",
   "execution_count": 19,
   "metadata": {},
   "outputs": [
    {
     "name": "stdout",
     "output_type": "stream",
     "text": [
      "15 || pred : [('그', 'MM'), ('로인', 'NNG'), ('볼트', 'NNG'), ('로', 'JKB')]|| removed_pred : 그로인볼트 || ref : ['석조 궁륭'] \n",
      "59 || pred : [('남미', 'NNP'), (' ', 'SPACE'), ('자브', 'NNP'), ('로', 'JKB')]|| removed_pred : 남미 자브 || ref : ['남미 자브로', '자브로'] \n",
      "166 || pred : [('고려', 'NNG'), (' ', 'SPACE'), ('하대', 'NNG'), ('로', 'JKB')]|| removed_pred : 고려 하대 || ref : ['17세기'] \n",
      "177 || pred : [('아루', 'NNP'), ('에', 'JKB')]|| removed_pred : 아루 || ref : ['아루에'] \n",
      "183 || pred : [('미술', 'NNG'), ('과', 'JC')]|| removed_pred : 미술 || ref : ['건축학과'] \n",
      "253 || pred : [('감각', 'NNG'), ('기', 'NNG'), ('에', 'JKB')]|| removed_pred : 감각기 || ref : ['감각기'] \n",
      "340 || pred : [('법무성', 'NNP'), ('이', 'JKS')]|| removed_pred : 법무성 || ref : ['법무성'] \n",
      "355 || pred : [('히스토리아', 'NNP'), ('가', 'JKS')]|| removed_pred : 히스토리아 || ref : ['미카사 아커만', '미카사'] \n",
      "480 || pred : [('베다', 'NNG'), ('는', 'JX')]|| removed_pred : 베다 || ref : ['베다'] \n",
      "{'exact_match': 73.33333333333333, 'f1': 76.50003607503608}\n",
      "correct_num : 440.0/600\n"
     ]
    }
   ],
   "source": [
    "from pororo import Pororo\n",
    "\n",
    "pos = Pororo(task=\"pos\", lang=\"ko\")\n",
    "\n",
    "#마지막이 조사일 경우에 제거해주기. ex) 감각기에 -> 감각기\n",
    "def remove_joint_tag(predicts : list, references : list = None, show_removed_joint : bool = True):\n",
    "    new_predicts = []\n",
    "    \n",
    "    for i, predict in enumerate(predicts):    \n",
    "        # pos(\"안녕하세요\") -> [('안녕', 'NNG'), ('하', 'XSV'), ('시', 'EP'), ('어요', 'EF')]\n",
    "        tag_list = pos(predict)\n",
    "        last_tag = tag_list[-1][1]\n",
    "\n",
    "        # JKS 주격 조사  JKC 보격 조사  JKG 관형격 조사  JKO 목적격 조사  JKB 부사격 조사  JKV 호격 조사  JKQ 인용격 조사  JX 보조사  JC 접속 조사\n",
    "        if \"J\" in last_tag:\n",
    "            start_index = predict.rfind(last_tag)\n",
    "            new_predicts.append(predict[:start_index])\n",
    "\n",
    "            if show_removed_joint and (references != None):\n",
    "                print(f\"{i} || pred : {tag_list}|| removed_pred : {predict[:start_index]} || ref : {references[i]} \")\n",
    "        else:\n",
    "            new_predicts.append(predict)\n",
    "    return new_predicts\n",
    "\n",
    "raw_predict_list = mrc_json_to_list(\"/opt/ml/723.json\")\n",
    "reference_list = mrc_csv_to_list(\"/opt/ml/sudo_test.csv\")\n",
    "predict_list_no_joint = remove_joint_tag(raw_predict_list, reference_list)\n",
    "\n",
    "get_squad_score(predict_list_no_joint, reference_list)\n"
   ]
  },
  {
   "cell_type": "markdown",
   "metadata": {},
   "source": [
    "# 소괄호() 제거"
   ]
  },
  {
   "cell_type": "code",
   "execution_count": 5,
   "metadata": {},
   "outputs": [],
   "source": [
    "import re\n",
    "\n",
    "def remove_bracket(predict_list):\n",
    "    temp = []\n",
    "    for i, predict in enumerate(predict_list):\n",
    "        re_result = re.compile(\".*\\(.*\\)$\").match(predict)\n",
    "        if (re_result) != None:\n",
    "            # print(predict)\n",
    "            temp.append(re.compile(\"\\(.*\\)$\").sub(\"\",predict))\n",
    "        else:\n",
    "            temp.append(predict)\n",
    "    return temp"
   ]
  },
  {
   "cell_type": "markdown",
   "metadata": {},
   "source": [
    "# 따옴표 제거"
   ]
  },
  {
   "cell_type": "code",
   "execution_count": 6,
   "metadata": {},
   "outputs": [],
   "source": [
    "import re\n",
    "\n",
    "def remove_quotes(predict_list):\n",
    "    temp = []\n",
    "    for i, predict in enumerate(predict_list):\n",
    "        \n",
    "        # 역의 경우\n",
    "        # if re.compile(\"^'\\w*'$\").match(ref) != None:\n",
    "        #     print(i, str_tag, ref)\n",
    "        \n",
    "        if (re.compile(\"^'[\\w\\s]*'$\").match(predict) != None) or re.compile('^\"[\\w\\s]*\"$').match(predict) != None:\n",
    "            # if predict not in ref:\n",
    "            #     print(i, predict, ref)\n",
    "            temp.append(eval(predict))\n",
    "        else:\n",
    "            temp.append(predict)\n",
    "    return temp\n"
   ]
  },
  {
   "cell_type": "markdown",
   "metadata": {},
   "source": [
    "# post-processing  [ 조사제거 -> 소괄호제거 ]"
   ]
  },
  {
   "cell_type": "code",
   "execution_count": 12,
   "metadata": {},
   "outputs": [
    {
     "name": "stdout",
     "output_type": "stream",
     "text": [
      "original score\n",
      "{'exact_match': 73.16666666666667, 'f1': 76.25003607503608}\n",
      "correct_num : 439.0/600\n",
      "조사 제거 score\n",
      "{'exact_match': 73.33333333333333, 'f1': 76.50003607503608}\n",
      "correct_num : 440.0/600\n",
      "소괄호 제거 score\n",
      "{'exact_match': 73.33333333333333, 'f1': 76.38892496392496}\n",
      "correct_num : 440.0/600\n"
     ]
    }
   ],
   "source": [
    "raw_predict_list = mrc_json_to_list(\"/opt/ml/723.json\")\n",
    "\n",
    "reference_list = mrc_csv_to_list(\"/opt/ml/sudo_test.csv\")\n",
    "\n",
    "print(\"original score\")\n",
    "get_squad_score(raw_predict_list, reference_list)\n",
    "\n",
    "predict_list_no_joint = remove_joint_tag(raw_predict_list)\n",
    "print(\"조사 제거 score\")\n",
    "get_squad_score(predict_list_no_joint, reference_list)\n",
    "\n",
    "predict_list_no_bracket = remove_bracket(raw_predict_list)\n",
    "print(\"소괄호 제거 score\")\n",
    "get_squad_score(predict_list_no_bracket, reference_list)"
   ]
  },
  {
   "cell_type": "markdown",
   "metadata": {},
   "source": [
    "# json 파일로 저장"
   ]
  },
  {
   "cell_type": "code",
   "execution_count": 13,
   "metadata": {},
   "outputs": [],
   "source": [
    "def save_json(predict_list, id_list, save_name):\n",
    "    all_predictions = {}\n",
    "\n",
    "    for id, pred in zip(id_list, predict_list):\n",
    "        all_predictions[id] = pred\n",
    "\n",
    "    with open(save_name, \"w\", encoding=\"utf-8\") as writer:\n",
    "        writer.write(\n",
    "            json.dumps(all_predictions, indent=4, ensure_ascii=False) + \"\\n\"\n",
    "        )"
   ]
  },
  {
   "cell_type": "markdown",
   "metadata": {},
   "source": [
    "# 틀린 정답 print"
   ]
  },
  {
   "cell_type": "code",
   "execution_count": 15,
   "metadata": {},
   "outputs": [],
   "source": [
    "def wrong_print(predict_list,reference_list):\n",
    "    wrong_num = 0\n",
    "    for j, (pred, ref) in enumerate(zip(predict_list, reference_list)):    \n",
    "        if not pred in ref:\n",
    "            print(f\"{j} pred {pred} || refs : {ref}\")\n",
    "    print(wrong_num)"
   ]
  },
  {
   "cell_type": "markdown",
   "metadata": {},
   "source": [
    "# 일부 포함 print"
   ]
  },
  {
   "cell_type": "code",
   "execution_count": 16,
   "metadata": {},
   "outputs": [],
   "source": [
    "def sub_print(predict_list,reference_list):\n",
    "    wrong_num = 0\n",
    "    for j, (pred, ref) in enumerate(zip(predict_list, reference_list)):\n",
    "        \n",
    "        if not pred in ref:\n",
    "            for refs in ref:\n",
    "                if refs in pred:\n",
    "                    wrong_num += 1\n",
    "                    print(f\"{j} pred {pred} || refs : {refs}\")\n",
    "    print(wrong_num)\n"
   ]
  }
 ],
 "metadata": {
  "interpreter": {
   "hash": "a69ada1fc74c1094da43b320c9b7f08cac508e2f9d81a661a1fd810ec8eae8af"
  },
  "kernelspec": {
   "display_name": "Python 3.8.12 64-bit ('pororo': conda)",
   "name": "python3"
  },
  "language_info": {
   "codemirror_mode": {
    "name": "ipython",
    "version": 3
   },
   "file_extension": ".py",
   "mimetype": "text/x-python",
   "name": "python",
   "nbconvert_exporter": "python",
   "pygments_lexer": "ipython3",
   "version": "3.8.12"
  },
  "orig_nbformat": 4
 },
 "nbformat": 4,
 "nbformat_minor": 2
}
